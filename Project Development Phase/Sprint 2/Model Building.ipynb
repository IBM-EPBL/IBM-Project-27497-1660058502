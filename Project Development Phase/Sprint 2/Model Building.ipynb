{
 "cells": [
  {
   "cell_type": "code",
   "execution_count": 1,
   "id": "a94f34a1",
   "metadata": {},
   "outputs": [],
   "source": [
    "from keras.preprocessing.image import ImageDataGenerator"
   ]
  },
  {
   "cell_type": "code",
   "execution_count": 2,
   "id": "6bf88ead",
   "metadata": {},
   "outputs": [],
   "source": [
    "train_datagen = ImageDataGenerator (rescale=1./255, \n",
    "                                     shear_range=0.2,zoom_range=0.2, \n",
    "                                     horizontal_flip=True)\n",
    "test_datagen=ImageDataGenerator(rescale=1./255)"
   ]
  },
  {
   "cell_type": "code",
   "execution_count": 3,
   "id": "6bceae7f",
   "metadata": {},
   "outputs": [
    {
     "name": "stdout",
     "output_type": "stream",
     "text": [
      "Found 30 images belonging to 6 classes.\n",
      "Found 594 images belonging to 6 classes.\n"
     ]
    }
   ],
   "source": [
    "x_train = train_datagen.flow_from_directory(r'C:\\Users\\Sneha\\Desktop\\dataset\\test',target_size=(64, 64), \n",
    "                                            batch_size=32, \n",
    "                                            color_mode='grayscale',\n",
    "                                            class_mode='categorical')\n",
    "x_test = test_datagen.flow_from_directory(r'C:\\Users\\Sneha\\Desktop\\dataset\\train',\n",
    "                                          target_size=(64, 64), batch_size=32, \n",
    "                                          color_mode='grayscale', \n",
    "                                          class_mode='categorical')"
   ]
  },
  {
   "cell_type": "markdown",
   "id": "aff06285",
   "metadata": {},
   "source": [
    "# Importing The Model Building Libraries"
   ]
  },
  {
   "cell_type": "code",
   "execution_count": 4,
   "id": "f309b8cb",
   "metadata": {},
   "outputs": [],
   "source": [
    "import numpy as np\n",
    "import tensorflow as tf\n",
    "from tensorflow.keras.models import Sequential\n",
    "from tensorflow.keras import layers\n",
    "from tensorflow.keras.layers import Dense, Flatten\n",
    "from tensorflow.keras.layers import Conv2D, MaxPooling2D\n",
    "from keras.preprocessing.image import ImageDataGenerator"
   ]
  },
  {
   "cell_type": "code",
   "execution_count": 5,
   "id": "f34edb86",
   "metadata": {},
   "outputs": [
    {
     "name": "stdout",
     "output_type": "stream",
     "text": [
      "{'0': 0, '1': 1, '2': 2, '3': 3, '4': 4, '5': 5}\n"
     ]
    }
   ],
   "source": [
    "print(x_train.class_indices) "
   ]
  },
  {
   "cell_type": "markdown",
   "id": "4c149f2c",
   "metadata": {},
   "source": [
    "# Initializing The Model\n"
   ]
  },
  {
   "cell_type": "code",
   "execution_count": 6,
   "id": "6ffa0009",
   "metadata": {},
   "outputs": [],
   "source": [
    "model=Sequential()"
   ]
  },
  {
   "cell_type": "markdown",
   "id": "d99cae64",
   "metadata": {},
   "source": [
    "# Adding CNN Layers\n"
   ]
  },
  {
   "cell_type": "code",
   "execution_count": 7,
   "id": "bfe0e599",
   "metadata": {},
   "outputs": [],
   "source": [
    "# First convolution Layer and pooling\n",
    "model.add(Conv2D(32, (3, 3), input_shape=(64, 64, 1), activation='relu')) \n",
    "model.add(MaxPooling2D(pool_size=(2, 2)))\n",
    "# Second convolution Layer and pooling\n",
    "model.add(Conv2D(32, (3, 3), activation='relu'))\n",
    "# input_shape is going to be the pooled feature maps from the previous convolution layer\n",
    "model.add(MaxPooling2D(pool_size=(2, 2)))\n",
    "# Flattening the layers\n",
    "model.add(Flatten())"
   ]
  },
  {
   "cell_type": "markdown",
   "id": "78574a77",
   "metadata": {},
   "source": [
    "# Adding Dense Layers"
   ]
  },
  {
   "cell_type": "code",
   "execution_count": 8,
   "id": "95b531d5",
   "metadata": {},
   "outputs": [],
   "source": [
    "model.add(Dense (units=128, activation='relu')) \n",
    "model.add(Dense (units=6, activation='softmax'))"
   ]
  },
  {
   "cell_type": "code",
   "execution_count": 9,
   "id": "4f9b57aa",
   "metadata": {},
   "outputs": [
    {
     "name": "stdout",
     "output_type": "stream",
     "text": [
      "Model: \"sequential\"\n",
      "_________________________________________________________________\n",
      " Layer (type)                Output Shape              Param #   \n",
      "=================================================================\n",
      " conv2d (Conv2D)             (None, 62, 62, 32)        320       \n",
      "                                                                 \n",
      " max_pooling2d (MaxPooling2D  (None, 31, 31, 32)       0         \n",
      " )                                                               \n",
      "                                                                 \n",
      " conv2d_1 (Conv2D)           (None, 29, 29, 32)        9248      \n",
      "                                                                 \n",
      " max_pooling2d_1 (MaxPooling  (None, 14, 14, 32)       0         \n",
      " 2D)                                                             \n",
      "                                                                 \n",
      " flatten (Flatten)           (None, 6272)              0         \n",
      "                                                                 \n",
      " dense (Dense)               (None, 128)               802944    \n",
      "                                                                 \n",
      " dense_1 (Dense)             (None, 6)                 774       \n",
      "                                                                 \n",
      "=================================================================\n",
      "Total params: 813,286\n",
      "Trainable params: 813,286\n",
      "Non-trainable params: 0\n",
      "_________________________________________________________________\n"
     ]
    }
   ],
   "source": [
    "model.summary()"
   ]
  },
  {
   "cell_type": "markdown",
   "id": "44766541",
   "metadata": {},
   "source": [
    "# Configure The Learning Process"
   ]
  },
  {
   "cell_type": "code",
   "execution_count": 10,
   "id": "b94fb625",
   "metadata": {},
   "outputs": [],
   "source": [
    "model.compile(optimizer='adam', \n",
    "              loss='categorical_crossentropy', \n",
    "              metrics=['accuracy'])"
   ]
  },
  {
   "cell_type": "markdown",
   "id": "407419c5",
   "metadata": {},
   "source": [
    "# Train The Model"
   ]
  },
  {
   "cell_type": "code",
   "execution_count": 11,
   "id": "237d0644",
   "metadata": {},
   "outputs": [
    {
     "name": "stdout",
     "output_type": "stream",
     "text": [
      "Epoch 1/25\n"
     ]
    },
    {
     "name": "stderr",
     "output_type": "stream",
     "text": [
      "C:\\Users\\Sneha\\AppData\\Local\\Temp\\ipykernel_23416\\1576959243.py:1: UserWarning: `Model.fit_generator` is deprecated and will be removed in a future version. Please use `Model.fit`, which supports generators.\n",
      "  model.fit_generator(x_train,\n"
     ]
    },
    {
     "name": "stdout",
     "output_type": "stream",
     "text": [
      "1/1 [==============================] - 2s 2s/step - loss: 1.8108 - accuracy: 0.1000 - val_loss: 1.8128 - val_accuracy: 0.1667\n",
      "Epoch 2/25\n",
      "1/1 [==============================] - 1s 543ms/step - loss: 1.7759 - accuracy: 0.1667 - val_loss: 1.7742 - val_accuracy: 0.2542\n",
      "Epoch 3/25\n",
      "1/1 [==============================] - 1s 573ms/step - loss: 1.7316 - accuracy: 0.4000 - val_loss: 1.7679 - val_accuracy: 0.1919\n",
      "Epoch 4/25\n",
      "1/1 [==============================] - 1s 596ms/step - loss: 1.6833 - accuracy: 0.3000 - val_loss: 1.7178 - val_accuracy: 0.3199\n",
      "Epoch 5/25\n",
      "1/1 [==============================] - 1s 584ms/step - loss: 1.5907 - accuracy: 0.6000 - val_loss: 1.6923 - val_accuracy: 0.3367\n",
      "Epoch 6/25\n",
      "1/1 [==============================] - 0s 469ms/step - loss: 1.4695 - accuracy: 0.8333 - val_loss: 1.6693 - val_accuracy: 0.2997\n",
      "Epoch 7/25\n",
      "1/1 [==============================] - 0s 456ms/step - loss: 1.4542 - accuracy: 0.6667 - val_loss: 1.6376 - val_accuracy: 0.3889\n",
      "Epoch 8/25\n",
      "1/1 [==============================] - 0s 484ms/step - loss: 1.2940 - accuracy: 0.8000 - val_loss: 1.6242 - val_accuracy: 0.3990\n",
      "Epoch 9/25\n",
      "1/1 [==============================] - 1s 678ms/step - loss: 1.2923 - accuracy: 0.7667 - val_loss: 1.6747 - val_accuracy: 0.4209\n",
      "Epoch 10/25\n",
      "1/1 [==============================] - 1s 557ms/step - loss: 1.1524 - accuracy: 0.8333 - val_loss: 1.6650 - val_accuracy: 0.3990\n",
      "Epoch 11/25\n",
      "1/1 [==============================] - 1s 662ms/step - loss: 0.9615 - accuracy: 0.8667 - val_loss: 1.6079 - val_accuracy: 0.3822\n",
      "Epoch 12/25\n",
      "1/1 [==============================] - 1s 554ms/step - loss: 0.9537 - accuracy: 0.7333 - val_loss: 1.7386 - val_accuracy: 0.3906\n",
      "Epoch 13/25\n",
      "1/1 [==============================] - 0s 452ms/step - loss: 0.8710 - accuracy: 0.7333 - val_loss: 1.8773 - val_accuracy: 0.4057\n",
      "Epoch 14/25\n",
      "1/1 [==============================] - 0s 446ms/step - loss: 0.7026 - accuracy: 0.8000 - val_loss: 1.7737 - val_accuracy: 0.3990\n",
      "Epoch 15/25\n",
      "1/1 [==============================] - 0s 436ms/step - loss: 0.7116 - accuracy: 0.6667 - val_loss: 1.9189 - val_accuracy: 0.4125\n",
      "Epoch 16/25\n",
      "1/1 [==============================] - 0s 452ms/step - loss: 0.5756 - accuracy: 0.8667 - val_loss: 2.0936 - val_accuracy: 0.3973\n",
      "Epoch 17/25\n",
      "1/1 [==============================] - 0s 460ms/step - loss: 0.5364 - accuracy: 0.8000 - val_loss: 1.8921 - val_accuracy: 0.3956\n",
      "Epoch 18/25\n",
      "1/1 [==============================] - 0s 433ms/step - loss: 0.4760 - accuracy: 0.9000 - val_loss: 2.0464 - val_accuracy: 0.4024\n",
      "Epoch 19/25\n",
      "1/1 [==============================] - 0s 444ms/step - loss: 0.4355 - accuracy: 0.8333 - val_loss: 2.4637 - val_accuracy: 0.4360\n",
      "Epoch 20/25\n",
      "1/1 [==============================] - 1s 660ms/step - loss: 0.3600 - accuracy: 0.9667 - val_loss: 2.7379 - val_accuracy: 0.4192\n",
      "Epoch 21/25\n",
      "1/1 [==============================] - 0s 460ms/step - loss: 0.3185 - accuracy: 0.9667 - val_loss: 2.4645 - val_accuracy: 0.4579\n",
      "Epoch 22/25\n",
      "1/1 [==============================] - 1s 609ms/step - loss: 0.3198 - accuracy: 0.9667 - val_loss: 2.3525 - val_accuracy: 0.4242\n",
      "Epoch 23/25\n",
      "1/1 [==============================] - 1s 513ms/step - loss: 0.4429 - accuracy: 0.9000 - val_loss: 2.5030 - val_accuracy: 0.4141\n",
      "Epoch 24/25\n",
      "1/1 [==============================] - 1s 580ms/step - loss: 0.2169 - accuracy: 0.9667 - val_loss: 2.7113 - val_accuracy: 0.4074\n",
      "Epoch 25/25\n",
      "1/1 [==============================] - 0s 448ms/step - loss: 0.3017 - accuracy: 0.9333 - val_loss: 2.7014 - val_accuracy: 0.4276\n"
     ]
    },
    {
     "data": {
      "text/plain": [
       "<keras.callbacks.History at 0x2038ef51670>"
      ]
     },
     "execution_count": 11,
     "metadata": {},
     "output_type": "execute_result"
    }
   ],
   "source": [
    "model.fit_generator(x_train, \n",
    "                    steps_per_epoch = len(x_train),\n",
    "                    epochs=25, \n",
    "                    validation_data=x_test, \n",
    "                    validation_steps = len(x_test))"
   ]
  },
  {
   "cell_type": "markdown",
   "id": "50f30512",
   "metadata": {},
   "source": [
    "# Save The Model"
   ]
  },
  {
   "cell_type": "code",
   "execution_count": 12,
   "id": "ec752b96",
   "metadata": {},
   "outputs": [],
   "source": [
    "model.save('gesture.h5')"
   ]
  },
  {
   "cell_type": "code",
   "execution_count": 13,
   "id": "7b718f2e",
   "metadata": {},
   "outputs": [],
   "source": [
    "model_json = model.to_json()\n",
    "with open(\"model-bw.json\", \"w\") as json_file:\n",
    "    json_file.write(model_json)"
   ]
  },
  {
   "cell_type": "markdown",
   "id": "1e45fe39",
   "metadata": {},
   "source": [
    "# Test The Model\n"
   ]
  },
  {
   "cell_type": "code",
   "execution_count": 14,
   "id": "3dbbb13f",
   "metadata": {},
   "outputs": [],
   "source": [
    "from tensorflow.keras.models import load_model \n",
    "from keras.preprocessing import image \n",
    "model= load_model(\"gesture.h5\") #Loading the model for testing ="
   ]
  },
  {
   "cell_type": "code",
   "execution_count": 15,
   "id": "06e210f8",
   "metadata": {},
   "outputs": [],
   "source": [
    "import tensorflow as tf\n",
    "import numpy as np  \n",
    "from tensorflow.keras.preprocessing.image import ImageDataGenerator\n",
    "from tensorflow.keras.models import load_model\n",
    "from tensorflow.keras.preprocessing import image\n",
    "model = load_model(\"Gesture.h5\")\n",
    "path= r\"C:\\Users\\Sneha\\Desktop\\dataset\\test\\2\\3.jpg\""
   ]
  },
  {
   "cell_type": "code",
   "execution_count": 16,
   "id": "b1657688",
   "metadata": {},
   "outputs": [
    {
     "name": "stdout",
     "output_type": "stream",
     "text": [
      "Populating the interactive namespace from numpy and matplotlib\n"
     ]
    },
    {
     "data": {
      "image/png": "[encoded data removed]",
      "text/plain": [
       "<Figure size 640x480 with 1 Axes>"
      ]
     },
     "metadata": {},
     "output_type": "display_data"
    }
   ],
   "source": [
    "%pylab inline\n",
    "import matplotlib.pyplot as plt\n",
    "import matplotlib.image as mpimg\n",
    "imgs = mpimg.imread(path)\n",
    "imgplot = plt.imshow(imgs)\n",
    "plt.show()"
   ]
  },
  {
   "cell_type": "code",
   "execution_count": 17,
   "id": "89e24047",
   "metadata": {},
   "outputs": [
    {
     "data": {
      "text/plain": [
       "(64, 64, 1)"
      ]
     },
     "execution_count": 17,
     "metadata": {},
     "output_type": "execute_result"
    }
   ],
   "source": [
    "img = image.load_img(path,\n",
    "                     color_mode='grayscale',\n",
    "                     target_size= (64,64))\n",
    "x = image.img_to_array(img)#image to array\n",
    "x.shape"
   ]
  },
  {
   "cell_type": "code",
   "execution_count": 18,
   "id": "7eaa9199",
   "metadata": {},
   "outputs": [
    {
     "data": {
      "text/plain": [
       "numpy.ndarray"
      ]
     },
     "execution_count": 18,
     "metadata": {},
     "output_type": "execute_result"
    }
   ],
   "source": [
    "type(x)"
   ]
  },
  {
   "cell_type": "code",
   "execution_count": 19,
   "id": "e86ee761",
   "metadata": {},
   "outputs": [],
   "source": [
    "x = np.expand_dims(x,axis=0)"
   ]
  },
  {
   "cell_type": "code",
   "execution_count": 20,
   "id": "a279a212",
   "metadata": {},
   "outputs": [
    {
     "data": {
      "text/plain": [
       "(1, 64, 64, 1)"
      ]
     },
     "execution_count": 20,
     "metadata": {},
     "output_type": "execute_result"
    }
   ],
   "source": [
    "x.shape"
   ]
  },
  {
   "cell_type": "code",
   "execution_count": 21,
   "id": "8e09c540",
   "metadata": {},
   "outputs": [
    {
     "name": "stdout",
     "output_type": "stream",
     "text": [
      "1/1 [==============================] - 0s 79ms/step\n"
     ]
    },
    {
     "data": {
      "text/plain": [
       "array([[0, 0, 1, 0, 0, 0]], dtype=int64)"
      ]
     },
     "execution_count": 21,
     "metadata": {},
     "output_type": "execute_result"
    }
   ],
   "source": [
    "pred=(model.predict(x) > 0.5).astype(\"int64\")\n",
    "pred"
   ]
  },
  {
   "cell_type": "code",
   "execution_count": 22,
   "id": "d3bac8b8",
   "metadata": {},
   "outputs": [],
   "source": [
    "index=['0', '1', '2', '3', '4', '5']"
   ]
  },
  {
   "cell_type": "code",
   "execution_count": 23,
   "id": "e7b46369",
   "metadata": {},
   "outputs": [
    {
     "data": {
      "text/plain": [
       "'2'"
      ]
     },
     "execution_count": 23,
     "metadata": {},
     "output_type": "execute_result"
    }
   ],
   "source": [
    "index[np.argmax(pred[0])]"
   ]
  },
  {
   "cell_type": "code",
   "execution_count": 24,
   "id": "95ccdac0",
   "metadata": {},
   "outputs": [
    {
     "name": "stdout",
     "output_type": "stream",
     "text": [
      "1/1 [==============================] - 0s 16ms/step\n",
      "1/1 [==============================] - 0s 3ms/step\n",
      "1/1 [==============================] - 0s 7ms/step\n",
      "1/1 [==============================] - 0s 2ms/step\n",
      "1/1 [==============================] - 0s 16ms/step\n",
      "1/1 [==============================] - 0s 0s/step\n",
      "1/1 [==============================] - 0s 14ms/step\n",
      "1/1 [==============================] - 0s 15ms/step\n",
      "1/1 [==============================] - 0s 16ms/step\n",
      "1/1 [==============================] - 0s 17ms/step\n",
      "1/1 [==============================] - 0s 16ms/step\n",
      "1/1 [==============================] - 0s 16ms/step\n",
      "1/1 [==============================] - 0s 2ms/step\n",
      "1/1 [==============================] - 0s 5ms/step\n",
      "1/1 [==============================] - 0s 4ms/step\n",
      "1/1 [==============================] - 0s 16ms/step\n",
      "1/1 [==============================] - 0s 16ms/step\n",
      "1/1 [==============================] - 0s 1ms/step\n",
      "1/1 [==============================] - 0s 16ms/step\n",
      "1/1 [==============================] - 0s 16ms/step\n",
      "1/1 [==============================] - 0s 16ms/step\n",
      "1/1 [==============================] - 0s 16ms/step\n",
      "1/1 [==============================] - 0s 0s/step\n",
      "1/1 [==============================] - 0s 2ms/step\n",
      "1/1 [==============================] - 0s 16ms/step\n",
      "1/1 [==============================] - 0s 17ms/step\n",
      "1/1 [==============================] - 0s 4ms/step\n",
      "1/1 [==============================] - 0s 15ms/step\n",
      "1/1 [==============================] - 0s 16ms/step\n",
      "1/1 [==============================] - 0s 16ms/step\n",
      "[array([0], dtype=int64), array([0], dtype=int64), array([0], dtype=int64), array([0], dtype=int64), array([0], dtype=int64), array([1], dtype=int64), array([1], dtype=int64), array([1], dtype=int64), array([1], dtype=int64), array([1], dtype=int64), array([2], dtype=int64), array([2], dtype=int64), array([2], dtype=int64), array([2], dtype=int64), array([2], dtype=int64), array([3], dtype=int64), array([3], dtype=int64), array([3], dtype=int64), array([3], dtype=int64), array([3], dtype=int64), array([4], dtype=int64), array([4], dtype=int64), array([4], dtype=int64), array([4], dtype=int64), array([4], dtype=int64), array([5], dtype=int64), array([5], dtype=int64), array([5], dtype=int64), array([5], dtype=int64), array([5], dtype=int64)]\n"
     ]
    }
   ],
   "source": [
    "import numpy as np\n",
    "p=[]\n",
    "for i in range(0,6):\n",
    "    for j in range(0,5):\n",
    "        path= r\"C:\\\\Users\\\\Sneha\\\\Desktop\\\\dataset\\\\test\\\\\"+str(i)+\"\\\\\"+str(j)+\".jpg\"\n",
    "        img = image.load_img(path,color_mode=\"grayscale\",target_size=(64,64))\n",
    "        x = image.img_to_array(img)#image to array\n",
    "        x = np.expand_dims (x,axis = 0) #changing the shape\n",
    "        pred = np.argmax(model.predict(x), axis=-1) #predicting the classes\n",
    "        p.append(pred)\n",
    "print(p)"
   ]
  },
  {
   "cell_type": "code",
   "execution_count": 25,
   "id": "ab555b14",
   "metadata": {},
   "outputs": [
    {
     "name": "stdout",
     "output_type": "stream",
     "text": [
      "['0', '0', '0', '0', '0', '1', '1', '1', '1', '1', '2', '2', '2', '2', '2', '3', '3', '3', '3', '3', '4', '4', '4', '4', '4', '5', '5', '5', '5', '5']\n"
     ]
    }
   ],
   "source": [
    "result=[]\n",
    "index=['0','1','2','3','4','5']\n",
    "for i in p:\n",
    "    result.append(index[i[0]])\n",
    "    \n",
    "print(result)"
   ]
  }
 ],
 "metadata": {
  "kernelspec": {
   "display_name": "Python 3 (ipykernel)",
   "language": "python",
   "name": "python3"
  },
  "language_info": {
   "codemirror_mode": {
    "name": "ipython",
    "version": 3
   },
   "file_extension": ".py",
   "mimetype": "text/x-python",
   "name": "python",
   "nbconvert_exporter": "python",
   "pygments_lexer": "ipython3",
   "version": "3.9.13"
  }
 },
 "nbformat": 4,
 "nbformat_minor": 5
}
