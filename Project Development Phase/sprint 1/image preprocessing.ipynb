{
 "cells": [
  {
   "cell_type": "markdown",
   "id": "afa3f8f6",
   "metadata": {},
   "source": [
    "# Convolution Neural Network"
   ]
  },
  {
   "cell_type": "code",
   "execution_count": 1,
   "id": "ec473c1e",
   "metadata": {},
   "outputs": [],
   "source": [
    "from keras.preprocessing.image import ImageDataGenerator"
   ]
  },
  {
   "cell_type": "markdown",
   "id": "803ac1bb",
   "metadata": {},
   "source": [
    "# Define paramter for ImageDataGenerator class"
   ]
  },
  {
   "cell_type": "code",
   "execution_count": 2,
   "id": "6b36361c",
   "metadata": {},
   "outputs": [],
   "source": [
    "train_datagen = ImageDataGenerator (rescale=1./255, \n",
    "                                     shear_range=0.2,zoom_range=0.2, \n",
    "                                     horizontal_flip=True)\n",
    "test_datagen=ImageDataGenerator(rescale=1./255)"
   ]
  },
  {
   "cell_type": "markdown",
   "id": "18813c87",
   "metadata": {},
   "source": [
    "# Apply ImageDataGenerator Functionality To Trainset And Testset "
   ]
  },
  {
   "cell_type": "code",
   "execution_count": 3,
   "id": "6f8ee1ec",
   "metadata": {},
   "outputs": [
    {
     "name": "stdout",
     "output_type": "stream",
     "text": [
      "Found 30 images belonging to 6 classes.\n",
      "Found 594 images belonging to 6 classes.\n"
     ]
    }
   ],
   "source": [
    "x_train = train_datagen.flow_from_directory(r'C:\\Users\\Sneha\\Desktop\\dataset\\test',target_size=(64, 64), \n",
    "                                            batch_size=32, \n",
    "                                            color_mode='grayscale',\n",
    "                                            class_mode='categorical')\n",
    "x_test = test_datagen.flow_from_directory(r'C:\\Users\\Sneha\\Desktop\\dataset\\train',\n",
    "                                          target_size=(64, 64), batch_size=32, \n",
    "                                          color_mode='grayscale', \n",
    "                                          class_mode='categorical')"
   ]
  }
 ],
 "metadata": {
  "kernelspec": {
   "display_name": "Python 3 (ipykernel)",
   "language": "python",
   "name": "python3"
  },
  "language_info": {
   "codemirror_mode": {
    "name": "ipython",
    "version": 3
   },
   "file_extension": ".py",
   "mimetype": "text/x-python",
   "name": "python",
   "nbconvert_exporter": "python",
   "pygments_lexer": "ipython3",
   "version": "3.9.13"
  }
 },
 "nbformat": 4,
 "nbformat_minor": 5
}
