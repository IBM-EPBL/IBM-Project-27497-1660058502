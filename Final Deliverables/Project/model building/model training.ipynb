{
 "cells": [
  {
   "cell_type": "code",
   "execution_count": 1,
   "id": "c53d14d9",
   "metadata": {},
   "outputs": [],
   "source": [
    "from keras.preprocessing.image import ImageDataGenerator"
   ]
  },
  {
   "cell_type": "code",
   "execution_count": 2,
   "id": "537169af",
   "metadata": {},
   "outputs": [],
   "source": [
    "import numpy as np\n",
    "import tensorflow as tf\n",
    "from tensorflow.keras.models import Sequential\n",
    "from tensorflow.keras import layers\n",
    "from tensorflow.keras.layers import Dense, Flatten\n",
    "from tensorflow.keras.layers import Conv2D, MaxPooling2D\n",
    "from keras.preprocessing.image import ImageDataGenerator"
   ]
  },
  {
   "cell_type": "code",
   "execution_count": 3,
   "id": "7a376e6b",
   "metadata": {},
   "outputs": [],
   "source": [
    "train_datagen = ImageDataGenerator (rescale=1./255, \n",
    "                                     shear_range=0.2,zoom_range=0.2, \n",
    "                                     horizontal_flip=True)\n",
    "test_datagen=ImageDataGenerator(rescale=1./255)"
   ]
  },
  {
   "cell_type": "code",
   "execution_count": 5,
   "id": "e939bcc7",
   "metadata": {},
   "outputs": [
    {
     "name": "stdout",
     "output_type": "stream",
     "text": [
      "Found 594 images belonging to 6 classes.\n",
      "Found 30 images belonging to 6 classes.\n"
     ]
    }
   ],
   "source": [
    "x_train = train_datagen.flow_from_directory(r'C:\\Users\\Sneha\\Desktop\\dataset\\train',target_size=(64, 64), \n",
    "                                            batch_size=32, \n",
    "                                            color_mode='grayscale',\n",
    "                                            class_mode='categorical')\n",
    "x_test = test_datagen.flow_from_directory(r'C:\\Users\\Sneha\\Desktop\\dataset\\test',\n",
    "                                          target_size=(64, 64), batch_size=32, \n",
    "                                          color_mode='grayscale', \n",
    "                                          class_mode='categorical')"
   ]
  },
  {
   "cell_type": "code",
   "execution_count": 6,
   "id": "66e2f9b3",
   "metadata": {},
   "outputs": [
    {
     "name": "stdout",
     "output_type": "stream",
     "text": [
      "{'0': 0, '1': 1, '2': 2, '3': 3, '4': 4, '5': 5}\n"
     ]
    }
   ],
   "source": [
    "print(x_train.class_indices) "
   ]
  },
  {
   "cell_type": "code",
   "execution_count": 7,
   "id": "c694fc18",
   "metadata": {},
   "outputs": [],
   "source": [
    "model=Sequential()"
   ]
  },
  {
   "cell_type": "code",
   "execution_count": 8,
   "id": "79980263",
   "metadata": {},
   "outputs": [],
   "source": [
    "# First convolution Layer and pooling\n",
    "model.add(Conv2D(32, (3, 3), input_shape=(64, 64, 1), activation='relu')) \n",
    "model.add(MaxPooling2D(pool_size=(2, 2)))\n",
    "# Second convolution Layer and pooling\n",
    "model.add(Conv2D(32, (3, 3), activation='relu'))\n",
    "# input_shape is going to be the pooled feature maps from the previous convolution layer\n",
    "model.add(MaxPooling2D(pool_size=(2, 2)))\n",
    "# Flattening the layers\n",
    "model.add(Flatten())"
   ]
  },
  {
   "cell_type": "code",
   "execution_count": 9,
   "id": "aa809c2c",
   "metadata": {},
   "outputs": [],
   "source": [
    "model.add(Dense (units=128, activation='relu')) \n",
    "model.add(Dense (units=6, activation='softmax'))"
   ]
  },
  {
   "cell_type": "code",
   "execution_count": 10,
   "id": "0163ce0c",
   "metadata": {},
   "outputs": [
    {
     "name": "stdout",
     "output_type": "stream",
     "text": [
      "Model: \"sequential\"\n",
      "_________________________________________________________________\n",
      " Layer (type)                Output Shape              Param #   \n",
      "=================================================================\n",
      " conv2d (Conv2D)             (None, 62, 62, 32)        320       \n",
      "                                                                 \n",
      " max_pooling2d (MaxPooling2D  (None, 31, 31, 32)       0         \n",
      " )                                                               \n",
      "                                                                 \n",
      " conv2d_1 (Conv2D)           (None, 29, 29, 32)        9248      \n",
      "                                                                 \n",
      " max_pooling2d_1 (MaxPooling  (None, 14, 14, 32)       0         \n",
      " 2D)                                                             \n",
      "                                                                 \n",
      " flatten (Flatten)           (None, 6272)              0         \n",
      "                                                                 \n",
      " dense (Dense)               (None, 128)               802944    \n",
      "                                                                 \n",
      " dense_1 (Dense)             (None, 6)                 774       \n",
      "                                                                 \n",
      "=================================================================\n",
      "Total params: 813,286\n",
      "Trainable params: 813,286\n",
      "Non-trainable params: 0\n",
      "_________________________________________________________________\n"
     ]
    }
   ],
   "source": [
    "model.summary()"
   ]
  },
  {
   "cell_type": "code",
   "execution_count": 11,
   "id": "c5c01a25",
   "metadata": {},
   "outputs": [],
   "source": [
    "model.compile(optimizer='adam', \n",
    "              loss='categorical_crossentropy', \n",
    "              metrics=['accuracy'])"
   ]
  },
  {
   "cell_type": "code",
   "execution_count": 12,
   "id": "7cb1e4c4",
   "metadata": {},
   "outputs": [
    {
     "name": "stderr",
     "output_type": "stream",
     "text": [
      "C:\\Users\\Sneha\\AppData\\Local\\Temp\\ipykernel_3416\\1576959243.py:1: UserWarning: `Model.fit_generator` is deprecated and will be removed in a future version. Please use `Model.fit`, which supports generators.\n",
      "  model.fit_generator(x_train,\n"
     ]
    },
    {
     "name": "stdout",
     "output_type": "stream",
     "text": [
      "Epoch 1/25\n",
      "19/19 [==============================] - 4s 101ms/step - loss: 1.8084 - accuracy: 0.2273 - val_loss: 1.6508 - val_accuracy: 0.3667\n",
      "Epoch 2/25\n",
      "19/19 [==============================] - 1s 69ms/step - loss: 1.4665 - accuracy: 0.4933 - val_loss: 1.0056 - val_accuracy: 0.6667\n",
      "Epoch 3/25\n",
      "19/19 [==============================] - 1s 69ms/step - loss: 0.9069 - accuracy: 0.6768 - val_loss: 0.7447 - val_accuracy: 0.6667\n",
      "Epoch 4/25\n",
      "19/19 [==============================] - 2s 82ms/step - loss: 0.6257 - accuracy: 0.7694 - val_loss: 0.4334 - val_accuracy: 0.8667\n",
      "Epoch 5/25\n",
      "19/19 [==============================] - 1s 76ms/step - loss: 0.4990 - accuracy: 0.8114 - val_loss: 0.6302 - val_accuracy: 0.7333\n",
      "Epoch 6/25\n",
      "19/19 [==============================] - 1s 70ms/step - loss: 0.4220 - accuracy: 0.8485 - val_loss: 0.4325 - val_accuracy: 0.8667\n",
      "Epoch 7/25\n",
      "19/19 [==============================] - 1s 71ms/step - loss: 0.3538 - accuracy: 0.8737 - val_loss: 0.4229 - val_accuracy: 0.8667\n",
      "Epoch 8/25\n",
      "19/19 [==============================] - 1s 73ms/step - loss: 0.3078 - accuracy: 0.8889 - val_loss: 0.5369 - val_accuracy: 0.8333\n",
      "Epoch 9/25\n",
      "19/19 [==============================] - 1s 71ms/step - loss: 0.2595 - accuracy: 0.9040 - val_loss: 0.4123 - val_accuracy: 0.9000\n",
      "Epoch 10/25\n",
      "19/19 [==============================] - 1s 71ms/step - loss: 0.2721 - accuracy: 0.8990 - val_loss: 0.5390 - val_accuracy: 0.8667\n",
      "Epoch 11/25\n",
      "19/19 [==============================] - 2s 81ms/step - loss: 0.2871 - accuracy: 0.8872 - val_loss: 0.4920 - val_accuracy: 0.8667\n",
      "Epoch 12/25\n",
      "19/19 [==============================] - 1s 68ms/step - loss: 0.2086 - accuracy: 0.9209 - val_loss: 0.3707 - val_accuracy: 0.9000\n",
      "Epoch 13/25\n",
      "19/19 [==============================] - 1s 71ms/step - loss: 0.1893 - accuracy: 0.9394 - val_loss: 0.3465 - val_accuracy: 0.9333\n",
      "Epoch 14/25\n",
      "19/19 [==============================] - 1s 74ms/step - loss: 0.1854 - accuracy: 0.9394 - val_loss: 0.4711 - val_accuracy: 0.8667\n",
      "Epoch 15/25\n",
      "19/19 [==============================] - 1s 73ms/step - loss: 0.1482 - accuracy: 0.9562 - val_loss: 0.2621 - val_accuracy: 0.9000\n",
      "Epoch 16/25\n",
      "19/19 [==============================] - 2s 86ms/step - loss: 0.1237 - accuracy: 0.9646 - val_loss: 0.3935 - val_accuracy: 0.9000\n",
      "Epoch 17/25\n",
      "19/19 [==============================] - 1s 78ms/step - loss: 0.1193 - accuracy: 0.9545 - val_loss: 0.3565 - val_accuracy: 0.9000\n",
      "Epoch 18/25\n",
      "19/19 [==============================] - 1s 68ms/step - loss: 0.1048 - accuracy: 0.9646 - val_loss: 0.3115 - val_accuracy: 0.9000\n",
      "Epoch 19/25\n",
      "19/19 [==============================] - 1s 66ms/step - loss: 0.0797 - accuracy: 0.9747 - val_loss: 0.3902 - val_accuracy: 0.9000\n",
      "Epoch 20/25\n",
      "19/19 [==============================] - 1s 65ms/step - loss: 0.0768 - accuracy: 0.9781 - val_loss: 0.3836 - val_accuracy: 0.9333\n",
      "Epoch 21/25\n",
      "19/19 [==============================] - 1s 67ms/step - loss: 0.0778 - accuracy: 0.9731 - val_loss: 0.4811 - val_accuracy: 0.8667\n",
      "Epoch 22/25\n",
      "19/19 [==============================] - 2s 80ms/step - loss: 0.1024 - accuracy: 0.9714 - val_loss: 0.2982 - val_accuracy: 0.9333\n",
      "Epoch 23/25\n",
      "19/19 [==============================] - 1s 78ms/step - loss: 0.0562 - accuracy: 0.9916 - val_loss: 0.2988 - val_accuracy: 0.8667\n",
      "Epoch 24/25\n",
      "19/19 [==============================] - 1s 67ms/step - loss: 0.0670 - accuracy: 0.9781 - val_loss: 0.1656 - val_accuracy: 0.9333\n",
      "Epoch 25/25\n",
      "19/19 [==============================] - 1s 69ms/step - loss: 0.0452 - accuracy: 0.9916 - val_loss: 0.1628 - val_accuracy: 0.9333\n"
     ]
    },
    {
     "data": {
      "text/plain": [
       "<keras.callbacks.History at 0x1c655a7c640>"
      ]
     },
     "execution_count": 12,
     "metadata": {},
     "output_type": "execute_result"
    }
   ],
   "source": [
    "model.fit_generator(x_train, \n",
    "                    steps_per_epoch = len(x_train),\n",
    "                    epochs=25, \n",
    "                    validation_data=x_test, \n",
    "                    validation_steps = len(x_test))"
   ]
  },
  {
   "cell_type": "code",
   "execution_count": 13,
   "id": "7e565994",
   "metadata": {},
   "outputs": [],
   "source": [
    "model.save('gesture.h5')"
   ]
  },
  {
   "cell_type": "code",
   "execution_count": 14,
   "id": "993dafeb",
   "metadata": {},
   "outputs": [],
   "source": [
    "model_json = model.to_json()\n",
    "with open(\"model-bw.json\", \"w\") as json_file:\n",
    "    json_file.write(model_json)"
   ]
  }
 ],
 "metadata": {
  "kernelspec": {
   "display_name": "Python 3 (ipykernel)",
   "language": "python",
   "name": "python3"
  },
  "language_info": {
   "codemirror_mode": {
    "name": "ipython",
    "version": 3
   },
   "file_extension": ".py",
   "mimetype": "text/x-python",
   "name": "python",
   "nbconvert_exporter": "python",
   "pygments_lexer": "ipython3",
   "version": "3.9.13"
  }
 },
 "nbformat": 4,
 "nbformat_minor": 5
}
